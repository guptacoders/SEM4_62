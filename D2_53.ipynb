{
 "cells": [
  {
   "cell_type": "code",
   "execution_count": 9,
   "metadata": {},
   "outputs": [
    {
     "data": {
      "text/html": [
       "<div>\n",
       "<style scoped>\n",
       "    .dataframe tbody tr th:only-of-type {\n",
       "        vertical-align: middle;\n",
       "    }\n",
       "\n",
       "    .dataframe tbody tr th {\n",
       "        vertical-align: top;\n",
       "    }\n",
       "\n",
       "    .dataframe thead th {\n",
       "        text-align: right;\n",
       "    }\n",
       "</style>\n",
       "<table border=\"1\" class=\"dataframe\">\n",
       "  <thead>\n",
       "    <tr style=\"text-align: right;\">\n",
       "      <th></th>\n",
       "      <th>length</th>\n",
       "      <th>breadth</th>\n",
       "      <th>type</th>\n",
       "      <th>area</th>\n",
       "    </tr>\n",
       "  </thead>\n",
       "  <tbody>\n",
       "    <tr>\n",
       "      <th>0</th>\n",
       "      <td>10</td>\n",
       "      <td>20</td>\n",
       "      <td>big</td>\n",
       "      <td>200</td>\n",
       "    </tr>\n",
       "    <tr>\n",
       "      <th>1</th>\n",
       "      <td>20</td>\n",
       "      <td>20</td>\n",
       "      <td>big</td>\n",
       "      <td>400</td>\n",
       "    </tr>\n",
       "    <tr>\n",
       "      <th>2</th>\n",
       "      <td>10</td>\n",
       "      <td>10</td>\n",
       "      <td>normal</td>\n",
       "      <td>100</td>\n",
       "    </tr>\n",
       "    <tr>\n",
       "      <th>3</th>\n",
       "      <td>12</td>\n",
       "      <td>11</td>\n",
       "      <td>normal</td>\n",
       "      <td>132</td>\n",
       "    </tr>\n",
       "    <tr>\n",
       "      <th>4</th>\n",
       "      <td>18</td>\n",
       "      <td>19</td>\n",
       "      <td>big</td>\n",
       "      <td>342</td>\n",
       "    </tr>\n",
       "    <tr>\n",
       "      <th>5</th>\n",
       "      <td>11</td>\n",
       "      <td>10</td>\n",
       "      <td>normal</td>\n",
       "      <td>110</td>\n",
       "    </tr>\n",
       "  </tbody>\n",
       "</table>\n",
       "</div>"
      ],
      "text/plain": [
       "   length  breadth    type  area\n",
       "0      10       20     big   200\n",
       "1      20       20     big   400\n",
       "2      10       10  normal   100\n",
       "3      12       11  normal   132\n",
       "4      18       19     big   342\n",
       "5      11       10  normal   110"
      ]
     },
     "execution_count": 9,
     "metadata": {},
     "output_type": "execute_result"
    }
   ],
   "source": [
    "import pandas as pd\n",
    "room_length = [10,20,10,12,18,11]\n",
    "room_breadth = [20,20,10,11,19,10]\n",
    "room_type = ['big','big','normal','normal','big','normal']\n",
    "data = {'length':room_length,'breadth':room_breadth,'type': room_type}\n",
    "df = pd.DataFrame(data)\n",
    "df['area'] = df['length']*df['breadth']\n",
    "df"
   ]
  },
  {
   "cell_type": "code",
   "execution_count": 13,
   "metadata": {},
   "outputs": [
    {
     "data": {
      "text/html": [
       "<div>\n",
       "<style scoped>\n",
       "    .dataframe tbody tr th:only-of-type {\n",
       "        vertical-align: middle;\n",
       "    }\n",
       "\n",
       "    .dataframe tbody tr th {\n",
       "        vertical-align: top;\n",
       "    }\n",
       "\n",
       "    .dataframe thead th {\n",
       "        text-align: right;\n",
       "    }\n",
       "</style>\n",
       "<table border=\"1\" class=\"dataframe\">\n",
       "  <thead>\n",
       "    <tr style=\"text-align: right;\">\n",
       "      <th></th>\n",
       "      <th>age</th>\n",
       "      <th>city_b</th>\n",
       "      <th>city_c</th>\n",
       "    </tr>\n",
       "  </thead>\n",
       "  <tbody>\n",
       "    <tr>\n",
       "      <th>0</th>\n",
       "      <td>18</td>\n",
       "      <td>0</td>\n",
       "      <td>0</td>\n",
       "    </tr>\n",
       "    <tr>\n",
       "      <th>1</th>\n",
       "      <td>20</td>\n",
       "      <td>1</td>\n",
       "      <td>0</td>\n",
       "    </tr>\n",
       "    <tr>\n",
       "      <th>2</th>\n",
       "      <td>23</td>\n",
       "      <td>1</td>\n",
       "      <td>0</td>\n",
       "    </tr>\n",
       "    <tr>\n",
       "      <th>3</th>\n",
       "      <td>19</td>\n",
       "      <td>0</td>\n",
       "      <td>0</td>\n",
       "    </tr>\n",
       "    <tr>\n",
       "      <th>4</th>\n",
       "      <td>18</td>\n",
       "      <td>0</td>\n",
       "      <td>1</td>\n",
       "    </tr>\n",
       "    <tr>\n",
       "      <th>5</th>\n",
       "      <td>22</td>\n",
       "      <td>1</td>\n",
       "      <td>0</td>\n",
       "    </tr>\n",
       "  </tbody>\n",
       "</table>\n",
       "</div>"
      ],
      "text/plain": [
       "   age  city_b  city_c\n",
       "0   18       0       0\n",
       "1   20       1       0\n",
       "2   23       1       0\n",
       "3   19       0       0\n",
       "4   18       0       1\n",
       "5   22       1       0"
      ]
     },
     "execution_count": 13,
     "metadata": {},
     "output_type": "execute_result"
    }
   ],
   "source": [
    "#Features Constructor\n",
    "age = [18,20,23,19,18,22]\n",
    "city=['a','b','b','a','c','b']\n",
    "df = pd.DataFrame({'age':age,'city':city})\n",
    "df=pd.get_dummies(data=df,drop_first=True)\n",
    "df"
   ]
  },
  {
   "cell_type": "code",
   "execution_count": 20,
   "metadata": {},
   "outputs": [
    {
     "data": {
      "text/html": [
       "<div>\n",
       "<style scoped>\n",
       "    .dataframe tbody tr th:only-of-type {\n",
       "        vertical-align: middle;\n",
       "    }\n",
       "\n",
       "    .dataframe tbody tr th {\n",
       "        vertical-align: top;\n",
       "    }\n",
       "\n",
       "    .dataframe thead th {\n",
       "        text-align: right;\n",
       "    }\n",
       "</style>\n",
       "<table border=\"1\" class=\"dataframe\">\n",
       "  <thead>\n",
       "    <tr style=\"text-align: right;\">\n",
       "      <th></th>\n",
       "      <th>area</th>\n",
       "      <th>price_Low</th>\n",
       "      <th>price_medium</th>\n",
       "    </tr>\n",
       "  </thead>\n",
       "  <tbody>\n",
       "    <tr>\n",
       "      <th>0</th>\n",
       "      <td>4720</td>\n",
       "      <td>0</td>\n",
       "      <td>1</td>\n",
       "    </tr>\n",
       "    <tr>\n",
       "      <th>1</th>\n",
       "      <td>2430</td>\n",
       "      <td>1</td>\n",
       "      <td>0</td>\n",
       "    </tr>\n",
       "    <tr>\n",
       "      <th>2</th>\n",
       "      <td>4368</td>\n",
       "      <td>0</td>\n",
       "      <td>1</td>\n",
       "    </tr>\n",
       "    <tr>\n",
       "      <th>3</th>\n",
       "      <td>3969</td>\n",
       "      <td>1</td>\n",
       "      <td>0</td>\n",
       "    </tr>\n",
       "    <tr>\n",
       "      <th>4</th>\n",
       "      <td>6142</td>\n",
       "      <td>0</td>\n",
       "      <td>0</td>\n",
       "    </tr>\n",
       "    <tr>\n",
       "      <th>5</th>\n",
       "      <td>7912</td>\n",
       "      <td>0</td>\n",
       "      <td>0</td>\n",
       "    </tr>\n",
       "  </tbody>\n",
       "</table>\n",
       "</div>"
      ],
      "text/plain": [
       "   area  price_Low  price_medium\n",
       "0  4720          0             1\n",
       "1  2430          1             0\n",
       "2  4368          0             1\n",
       "3  3969          1             0\n",
       "4  6142          0             0\n",
       "5  7912          0             0"
      ]
     },
     "execution_count": 20,
     "metadata": {},
     "output_type": "execute_result"
    }
   ],
   "source": [
    "#transforming numbercaial feature into categorical feature\n",
    "import numpy as np\n",
    "area = [4720,2430,4368,3969,6142,7912]\n",
    "price=[2360000,1215000,2184000,1984500,3071000,3956000]\n",
    "df = pd.DataFrame({'area':area,'price':price})\n",
    "df['price']=np.where(df['price']>3000000,'High',np.where(df['price']<2000000,'Low',\"medium\"))\n",
    "df=pd.get_dummies(data=df,drop_first=True)\n",
    "df"
   ]
  },
  {
   "cell_type": "code",
   "execution_count": 6,
   "metadata": {},
   "outputs": [
    {
     "name": "stdout",
     "output_type": "stream",
     "text": [
      "[[0.55795197]]\n",
      "[-0.89611192]\n",
      "[[3.89111601]]\n",
      " MSE =  0.12129235313495527\n"
     ]
    }
   ],
   "source": [
    "# --------- STEPS for Linear Regression:-\n",
    "# 1. Load data set\n",
    "# 2. check min value\n",
    "# 3. define x and y\n",
    "# 4. check shape of x and y\n",
    "# 5. split data into test and train\n",
    "# 6. print shape\n",
    "# 7. model selection\n",
    "# 8. find m&c\n",
    "# 9. model testing\n",
    "# 10. find error\n",
    "\n",
    "import pandas as pd\n",
    "from sklearn.model_selection import train_test_split #used to train model\n",
    "from sklearn.linear_model import LinearRegression #used to select model\n",
    "from sklearn.metrics import mean_squared_error #used to show error in the model\n",
    "\n",
    "data = pd.read_csv(\"book1.csv\")\n",
    "df = pd.DataFrame(data)\n",
    "df.isna().sum()\n",
    "x = df[['cgpa']]\n",
    "y = df[['package']]\n",
    "xShape = x.shape\n",
    "yShape = y.shape\n",
    "x_train, x_test, y_train, y_test = train_test_split(x, y, test_size=0.2, random_state=2)\n",
    "LR = LinearRegression()\n",
    "LR.fit(x_train,y_train)\n",
    "m = LR.coef_\n",
    "print(m)\n",
    "c = LR.intercept_\n",
    "print(c)\n",
    "# y = 0.5579x - 0.8961\n",
    "exp1 = LR.predict([[8.58]])\n",
    "print(exp1)\n",
    "y_predict = LR.predict(x_test)\n",
    "print(\" MSE = \",mean_squared_error(y_test,y_predict))"
   ]
  },
  {
   "cell_type": "code",
   "execution_count": 14,
   "metadata": {},
   "outputs": [
    {
     "name": "stdout",
     "output_type": "stream",
     "text": [
      "[[-0.01161309]]\n",
      "[33.04355512]\n",
      "[[32.94391484]]\n",
      " MSE =  0.17579037089631355\n"
     ]
    }
   ],
   "source": [
    "#question for above theory\n",
    "import pandas as pd\n",
    "from sklearn.model_selection import train_test_split\n",
    "from sklearn.linear_model import LinearRegression \n",
    "from sklearn.metrics import mean_squared_error\n",
    "\n",
    "# 1. Load data set\n",
    "data = pd.read_csv(\"olympic100.csv\")\n",
    "df = pd.DataFrame(data)\n",
    "# 2. check min value\n",
    "df.isna().sum()\n",
    "# 3. define x and y\n",
    "x = df[['year']]\n",
    "y = df[['time']]\n",
    "# 4. check shape of x and y\n",
    "xShape = x.shape\n",
    "yShape = y.shape\n",
    "# 5. split data into test and train\n",
    "x_train, x_test, y_train, y_test = train_test_split(x, y, test_size=0.2, random_state=2)\n",
    "# 6. print shape\n",
    "LR = LinearRegression()\n",
    "# 7. model selection\n",
    "LR.fit(x_train,y_train)\n",
    "# 8. find m&c\n",
    "m = LR.coef_\n",
    "print(m)\n",
    "c = LR.intercept_\n",
    "print(c)\n",
    "# 9. model testing\n",
    "# y = 0.5579x - 0.8961\n",
    "exp1 = LR.predict([[8.58]])\n",
    "print(exp1)\n",
    "# 10. find error\n",
    "y_predict = LR.predict(x_test)\n",
    "print(\" MSE = \",mean_squared_error(y_test,y_predict))"
   ]
  },
  {
   "cell_type": "code",
   "execution_count": 33,
   "metadata": {},
   "outputs": [
    {
     "name": "stdout",
     "output_type": "stream",
     "text": [
      "car_test1:- [[7.55023227]]\n",
      "car_test2:- [[12.367381]]\n",
      " MSE =  2.982384861859748\n",
      " MAE =  1.0998575552990952\n",
      " RMSE = 1.726958268708236\n",
      "R2_score = 0.8625260513315253\n"
     ]
    }
   ],
   "source": [
    "# --------- STEPS for Multiple Regression:-\n",
    "# 1. Load data set\n",
    "# 2. print shape\n",
    "# 3. check null value\n",
    "# 4. data preprocessing\n",
    "# 5. data preparation\n",
    "# 6. define x and y\n",
    "# 7. split data\n",
    "# 8. model selection\n",
    "# 9. find m&c\n",
    "# 10. Evaluate data\n",
    "# 11. model testing\n",
    "\n",
    "import pandas as pd\n",
    "from sklearn.model_selection import train_test_split\n",
    "from sklearn.linear_model import LinearRegression \n",
    "from sklearn.metrics import mean_squared_error,mean_absolute_error,r2_score\n",
    "# 1. Load data set\n",
    "data = pd.read_csv(\"car_data.csv\")\n",
    "df = pd.DataFrame(data)\n",
    "# 2. print shape\n",
    "df.shape\n",
    "# 3. check null value\n",
    "df.isna().sum()\n",
    "# 4. data preprocessing\n",
    "df['age'] = 2025-df['Year']\n",
    "# 5. data preparation\n",
    "df = df.drop(\"Year\",axis=1)\n",
    "df = df.drop(\"Car_Name\",axis=1)\n",
    "df=pd.get_dummies(data=df,drop_first=True)\n",
    "df.columns\n",
    "# 6. define x and y\n",
    "y = df[[\"Selling_Price\"]]\n",
    "y\n",
    "x = df.drop(\"Selling_Price\",axis=1)\n",
    "x\n",
    "# 7. split data\n",
    "x_train, x_test, y_train, y_test = train_test_split(x, y, test_size=0.2, random_state=1)\n",
    "# print(x_train.shape)\n",
    "# print(x_test.shape)\n",
    "# print(y_train.shape)\n",
    "# print(y_test.shape)\n",
    "\n",
    "# 8. model selection\n",
    "LR = LinearRegression()\n",
    "LR.fit(x_train,y_train)\n",
    "# 9. find m&c\n",
    "m = LR.coef_\n",
    "# print(m)\n",
    "c = LR.intercept_\n",
    "# print(c)\n",
    "carTest1 = LR.predict([[9,80000,0,2,0,1,1,1]])\n",
    "print(\"car_test1:-\",carTest1)\n",
    "# x.columns\n",
    "carTest2 = LR.predict([[12,100000,0,5,1,0,0,0]])\n",
    "print(\"car_test2:-\",carTest2)\n",
    "y_predict = LR.predict(x_test)\n",
    "print(\" MSE = \",mean_squared_error(y_test,y_predict))\n",
    "print(\" MAE = \",mean_absolute_error(y_test,y_predict))\n",
    "print(\" RMSE =\", mean_squared_error(y_test,y_predict)**0.5)\n",
    "print(\"R2_score =\", r2_score(y_test,y_predict))"
   ]
  },
  {
   "cell_type": "code",
   "execution_count": 50,
   "metadata": {},
   "outputs": [
    {
     "name": "stdout",
     "output_type": "stream",
     "text": [
      "[[  257.4659396    321.73117229   408.1007759   -242.03191443\n",
      "  23785.87090756  -395.66494582 -1038.93945021  -902.0403378 ]]\n",
      "[-11300.99624688]\n",
      "insurance_test1:- [[28993.9949253]]\n",
      " MSE =  35478025.80263243\n",
      " MAE =  4051.317127169171\n",
      " RMSE = 5956.343324778419\n",
      "R2_score = 0.762340085900854\n"
     ]
    }
   ],
   "source": [
    "import pandas as pd\n",
    "from sklearn.model_selection import train_test_split\n",
    "from sklearn.linear_model import LinearRegression \n",
    "from sklearn.metrics import mean_squared_error,mean_absolute_error,r2_score\n",
    "# 1. Load data set\n",
    "data = pd.read_csv(\"insurance.csv\")\n",
    "df = pd.DataFrame(data)\n",
    "df.shape\n",
    "df.isna().sum()\n",
    "df=pd.get_dummies(data=df,drop_first=True)\n",
    "df.columns\n",
    "y = df[[\"expenses\"]]\n",
    "y\n",
    "x = df.drop(\"expenses\",axis=1)\n",
    "x\n",
    "x_train, x_test, y_train, y_test = train_test_split(x, y, test_size=0.2, random_state=1)\n",
    "# print(x_train.shape)\n",
    "# print(x_test.shape)\n",
    "# print(y_train.shape)\n",
    "# print(y_test.shape)\n",
    "LR = LinearRegression()\n",
    "LR.fit(x_train,y_train)\n",
    "m = LR.coef_\n",
    "print(m)\n",
    "c = LR.intercept_\n",
    "print(c)\n",
    "# age = int(input(\"Enter the age: \"))\n",
    "# gender = int(input(\"Enter the gender: \"))\n",
    "# smoking = int(input(\"Enter the smoking status: \"))\n",
    "# child = int(input(\"Enter the no of children: \"))\n",
    "# north = int(input(\"North region: \"))\n",
    "# south = int(input(\"south region: \"))\n",
    "# west = int(input(\"west region: \"))\n",
    "\n",
    "insuranceTest1 = LR.predict([[25,30,2,0,1,1,0,0]])\n",
    "print(\"insurance_test1:-\",insuranceTest1)\n",
    "\n",
    "y_predict = LR.predict(x_test)\n",
    "print(\" MSE = \",mean_squared_error(y_test,y_predict))\n",
    "print(\" MAE = \",mean_absolute_error(y_test,y_predict))\n",
    "print(\" RMSE =\", mean_squared_error(y_test,y_predict)**0.5)\n",
    "print(\"R2_score =\", r2_score(y_test,y_predict))"
   ]
  },
  {
   "cell_type": "code",
   "execution_count": 57,
   "metadata": {},
   "outputs": [
    {
     "name": "stdout",
     "output_type": "stream",
     "text": [
      "[[ 6.84308941e+00 -2.25466590e-01 -5.18046265e-03  1.12369103e+00\n",
      "   1.87739728e+02 -4.29300312e+01]]\n",
      "[-13203.67430062]\n",
      " MSE =  77.14802598253955\n",
      " MAE =  6.443245493782469\n",
      " RMSE = 8.78339490075105\n",
      "R2_score = 0.5447865064578615\n"
     ]
    }
   ],
   "source": [
    "import pandas as pd\n",
    "from sklearn.model_selection import train_test_split\n",
    "from sklearn.linear_model import LinearRegression \n",
    "from sklearn.metrics import mean_squared_error,mean_absolute_error,r2_score\n",
    "data = pd.read_csv(\"Real estate.csv\")\n",
    "df = pd.DataFrame(data)\n",
    "df.shape\n",
    "df.isna().sum()\n",
    "df = df.drop(\"No\",axis=1)\n",
    "df=pd.get_dummies(data=df,drop_first=True)\n",
    "df.columns\n",
    "y = df[[\"Y house price of unit area\"]]\n",
    "y\n",
    "x = df.drop(\"Y house price of unit area\",axis=1)\n",
    "x\n",
    "x_train, x_test, y_train, y_test = train_test_split(x, y, test_size=0.3, random_state=110)\n",
    "LR = LinearRegression()\n",
    "LR.fit(x_train,y_train)\n",
    "m = LR.coef_\n",
    "print(m)\n",
    "c = LR.intercept_\n",
    "print(c)\n",
    "\n",
    "\n",
    "\n",
    "y_predict = LR.predict(x_test)\n",
    "print(\" MSE = \",mean_squared_error(y_test,y_predict))\n",
    "print(\" MAE = \",mean_absolute_error(y_test,y_predict))\n",
    "print(\" RMSE =\", mean_squared_error(y_test,y_predict)**0.5)\n",
    "print(\"R2_score =\", r2_score(y_test,y_predict))"
   ]
  },
  {
   "cell_type": "code",
   "execution_count": 28,
   "metadata": {},
   "outputs": [
    {
     "name": "stdout",
     "output_type": "stream",
     "text": [
      "[[3.53223839]]\n",
      "[-0.02429667]\n",
      " MSE =  103.66990257531208\n",
      " R2 =  0.6400451286845531\n"
     ]
    }
   ],
   "source": [
    "#Practice Problem for multiple regression\n",
    "#student performance and analysis\n",
    "# You have given Marksheet.csv file \n",
    "#Task:\n",
    "#1. clean the data set\n",
    "#2. perform total mark calculation\n",
    "#3. assign grade based on total marks (new col grade)\n",
    "#4. prepare simple linear regression to predict total marks using only test1 marks\n",
    "# 85+ - A, 75-84.99 - B, 65-74.99 - C, 50-64.99- D, 35-49.99 - E, 34.99 below - F\n",
    "# also find mean square error and r2 score\n",
    "\n",
    "\n",
    "import pandas as pd\n",
    "import numpy as np\n",
    "from sklearn.model_selection import train_test_split #used to train model\n",
    "from sklearn.linear_model import LinearRegression #used to select model\n",
    "from sklearn.metrics import mean_squared_error #used to show error in the model\n",
    "from sklearn.metrics import mean_squared_error,mean_absolute_error,r2_score\n",
    "\n",
    "data = pd.read_csv(\"Marksheet.csv\")\n",
    "df = pd.DataFrame(data)\n",
    "df.isna().sum()\n",
    "df = df.loc[df['TEST-3 MARKS']!='AB']\n",
    "df = df.loc[df['TEST-4 MARKS']!='AB']\n",
    "df['TEST-3 MARKS'] = df['TEST-3 MARKS'].astype('float64')\n",
    "df['TEST-4 MARKS'] = df['TEST-4 MARKS'].astype('float64')\n",
    "df['totalMarks'] = df['TEST-1 MARKS'] + df['TEST-2 MARKS'] + df['TEST-3 MARKS'] + df['TEST-4 MARKS']\n",
    "df['Grade']=np.where(df['totalMarks']>=85, \"A\",\n",
    "                     np.where(df['totalMarks']>=75, \"B\",\n",
    "                     np.where(df['totalMarks']>=65, \"C\",\n",
    "                     np.where(df['totalMarks']>=50, \"D\",\n",
    "                     np.where(df['totalMarks']>=35, \"E\",\"F\")))))\n",
    "x = df[['TEST-1 MARKS']]\n",
    "y = df[['totalMarks']]\n",
    "xShape = x.shape\n",
    "yShape = y.shape\n",
    "x_train, x_test, y_train, y_test = train_test_split(x, y, test_size=0.2, random_state=42)\n",
    "LR = LinearRegression()\n",
    "LR.fit(x_train,y_train)\n",
    "m = LR.coef_\n",
    "print(m)\n",
    "c = LR.intercept_\n",
    "print(c)\n",
    "exp1 = LR.predict(x_test)\n",
    "# print(exp1)\n",
    "print(\" MSE = \",mean_squared_error(y_test,exp1))\n",
    "print(\" R2 = \",r2_score(y_test,exp1))"
   ]
  },
  {
   "cell_type": "code",
   "execution_count": 45,
   "metadata": {},
   "outputs": [
    {
     "data": {
      "image/png": "[encoded data removed]",
      "text/plain": [
       "<Figure size 432x288 with 1 Axes>"
      ]
     },
     "metadata": {
      "needs_background": "light"
     },
     "output_type": "display_data"
    }
   ],
   "source": [
    "import pandas as pd\n",
    "import numpy as np\n",
    "import matplotlib.pyplot as plt\n",
    "from sklearn.linear_model import LinearRegression\n",
    "from sklearn.preprocessing import PolynomialFeatures\n",
    "\n",
    "df = pd.read_csv(\"polylinearregression.csv\")\n",
    "x = df[['Temperature']]\n",
    "y = df[['Pressure']]\n",
    "poly = PolynomialFeatures(degree=3)\n",
    "x_poly = poly.fit_transform(x)\n",
    "x_poly\n",
    "LR = LinearRegression()\n",
    "LR.fit(x_poly,y)\n",
    "plt.scatter(x,y,color=\"blue\")\n",
    "plt.plot(x,y,color=\"red\")\n",
    "plt.show()"
   ]
  },
  {
   "cell_type": "code",
   "execution_count": 50,
   "metadata": {},
   "outputs": [
    {
     "name": "stdout",
     "output_type": "stream",
     "text": [
      "[[133259.46969697]]\n"
     ]
    },
    {
     "data": {
      "image/png": "[encoded data removed]",
      "text/plain": [
       "<Figure size 432x288 with 1 Axes>"
      ]
     },
     "metadata": {
      "needs_background": "light"
     },
     "output_type": "display_data"
    }
   ],
   "source": [
    "import pandas as pd\n",
    "import numpy as np\n",
    "import matplotlib.pyplot as plt\n",
    "from sklearn.linear_model import LinearRegression\n",
    "from sklearn.preprocessing import PolynomialFeatures\n",
    "\n",
    "df = pd.read_csv(\"Position_Salaries.csv\")\n",
    "x = df[['Level']]\n",
    "y = df[['Salary']]\n",
    "poly = PolynomialFeatures(degree=3)\n",
    "x_poly = poly.fit_transform(x)\n",
    "x_poly\n",
    "LR = LinearRegression()\n",
    "LR.fit(x_poly,y)\n",
    "p = LR.predict(poly.fit_transform([[6.5]]))\n",
    "print(p)\n",
    "plt.scatter(x,y,color=\"blue\")\n",
    "plt.plot(x,y,color=\"red\")\n",
    "plt.show()"
   ]
  },
  {
   "cell_type": "code",
   "execution_count": 1,
   "metadata": {},
   "outputs": [
    {
     "name": "stdout",
     "output_type": "stream",
     "text": [
      "[-3.19586999  0.16715964  3.49505824  6.81466728 10.15282821]\n"
     ]
    },
    {
     "data": {
      "image/png": "[encoded data removed]",
      "text/plain": [
       "<Figure size 432x288 with 1 Axes>"
      ]
     },
     "metadata": {
      "needs_background": "light"
     },
     "output_type": "display_data"
    }
   ],
   "source": [
    "import pandas as pd\n",
    "import numpy as np\n",
    "import matplotlib.pyplot as plt\n",
    "from sklearn.linear_model import LinearRegression\n",
    "from sklearn.preprocessing import PolynomialFeatures\n",
    "\n",
    "x = np.arange(0, 30) \n",
    "y = np.array([3, 4, 5, 7, 10, 8, 9, 10, 10, 23, 27, 44, 50, 63, 67, 60, 62, 70, 75, 88, 81, 87, 95, 100, 108, \n",
    "135, 151, 160, 169, 179])\n",
    "\n",
    "poly = PolynomialFeatures(degree=3)\n",
    "x_poly = poly.fit_transform(x.reshape(-1,1))\n",
    "x_poly\n",
    "LR = LinearRegression()\n",
    "LR.fit(x_poly,y)\n",
    "p = LR.predict(poly.fit_transform(np.arange(5).reshape(-1,1))) \n",
    "print(p)\n",
    "plt.scatter(x,y,color=\"blue\")\n",
    "plt.plot(x,y,color=\"red\")\n",
    "plt.show()"
   ]
  },
  {
   "cell_type": "code",
   "execution_count": 23,
   "metadata": {},
   "outputs": [
    {
     "name": "stdout",
     "output_type": "stream",
     "text": [
      "M [[ 0.         -1.72640073  1.82947158  0.0640583 ]]\n",
      "C [2.60470605]\n",
      " MSE =  13.305418468740527\n",
      " R2 =  0.8038545160525795\n",
      "[[2.20688087]]\n"
     ]
    },
    {
     "data": {
      "image/png": "[encoded data removed]",
      "text/plain": [
       "<Figure size 432x288 with 1 Axes>"
      ]
     },
     "metadata": {
      "needs_background": "light"
     },
     "output_type": "display_data"
    }
   ],
   "source": [
    "#Question for polynomial regression\n",
    "import pandas as pd\n",
    "import numpy as np\n",
    "import matplotlib.pyplot as plt\n",
    "from sklearn.preprocessing import PolynomialFeatures\n",
    "\n",
    "df = pd.read_csv(\"ice_data.csv\")\n",
    "x = df[['Temperature (°C)']]\n",
    "y = df[['Ice Cream Sales (units)']]\n",
    "\n",
    "from sklearn.model_selection import train_test_split\n",
    "x_train, x_test, y_train, y_test = train_test_split(x, y, test_size=0.2, random_state=25)\n",
    "\n",
    "poly = PolynomialFeatures(degree=3)\n",
    "x_poly = poly.fit_transform(x_train)\n",
    "\n",
    "from sklearn.linear_model import LinearRegression\n",
    "LR = LinearRegression()\n",
    "LR.fit(x_poly,y_train)\n",
    "\n",
    "from sklearn.metrics import mean_squared_error,mean_absolute_error,r2_score\n",
    "m = LR.coef_\n",
    "print(\"M\",m)\n",
    "c = LR.intercept_\n",
    "print(\"C\",c)\n",
    "\n",
    "x_test_poly = poly.fit_transform(x_test)\n",
    "y_predict = LR.predict(x_test_poly)\n",
    "print(\" MSE = \",mean_squared_error(y_test,y_predict))\n",
    "\n",
    "# y_test_poly = poly.fit_transform(y_test)\n",
    "# x_predict = LR.predict(y_test_poly)\n",
    "# print(\" MSE for ice= \",mean_squared_error(x_test,x_predict))\n",
    "print(\" R2 = \",r2_score(y_test,y_predict))\n",
    "\n",
    "p = LR.predict(poly.fit_transform([[0.5]])) \n",
    "print(p)\n",
    "\n",
    "\n",
    "plt.scatter(x,y,color=\"blue\")\n",
    "plt.show()"
   ]
  },
  {
   "cell_type": "code",
   "execution_count": 25,
   "metadata": {},
   "outputs": [],
   "source": [
    "# ------------------------------------------------------------------------\n",
    "# ------------------------------------------------------------------------\n",
    "# ----------------------- CHAPTER:- 4 ------------------------------------\n",
    "# ------------------------------------------------------------------------\n",
    "# ------------------------------------------------------------------------"
   ]
  },
  {
   "cell_type": "code",
   "execution_count": 43,
   "metadata": {},
   "outputs": [
    {
     "name": "stdout",
     "output_type": "stream",
     "text": [
      "[0 0 0 0 1 0 0 1 0 1 0 1 1 0 0 1 1 0 0 1 1 1 0 0 0 0 0 0 0 0 1 0 0 0 0 1 0\n",
      " 1 0 0 0 0 0 0 0 0 0 0 0 0 1 0 0 1 0 0 1 0 0 0 0 1 1 1 0 0 1 0 0 0 0 0 1 0\n",
      " 0 0 0 0 0 0 0 0 0 0 1 0 0 0 0 0 0 0 0 0 0 1 0 0 1 0 0 0 0 0 0 0 1 0 0 0 0\n",
      " 0 0 0 0 1 0 0 0 0 0 0 0 0 0 1 0 1 1 0 0 0 1 0 0 1 0 0 0 0 0 0 0 0 0 0 0 1\n",
      " 0 0 0 0 0 0]\n",
      "TN 98\n",
      "TN 11\n",
      "TN 24\n",
      "TN 21\n",
      "Accuracy: 77.27%\n",
      "Accuracy: 77.27%\n"
     ]
    }
   ],
   "source": [
    "from sklearn.neighbors import KNeighborsClassifier\n",
    "import pandas as pd\n",
    "import numpy as np\n",
    "import matplotlib.pyplot as plt\n",
    "\n",
    "df = pd.read_csv(\"diabetes.csv\")\n",
    "y = df['Outcome']\n",
    "x = df.drop('Outcome',axis=1)\n",
    "\n",
    "from sklearn.model_selection import train_test_split\n",
    "x_train, x_test, y_train, y_test = train_test_split(x, y, test_size=0.2, random_state=2)\n",
    "\n",
    "# Initialize the KNN classifier\n",
    "knn = KNeighborsClassifier(n_neighbors=27)\n",
    "\n",
    "# Train the classifier\n",
    "model = knn.fit(x_train, y_train)\n",
    "\n",
    "# Make predictions on the test set\n",
    "y_pred = model.predict(x_test)\n",
    "print(y_pred)\n",
    "\n",
    "from sklearn.metrics import confusion_matrix\n",
    "cm = confusion_matrix(y_test,y_pred)\n",
    "TN = cm[0][0]\n",
    "FP = cm[0][1]\n",
    "FN = cm[1][0]\n",
    "TP = cm[1][1]\n",
    "print(\"TN\", TN)\n",
    "print(\"TN\", FP)\n",
    "print(\"TN\", FN)\n",
    "print(\"TN\", TP)\n",
    "\n",
    "# Evaluate the accuracy\n",
    "from sklearn.metrics import accuracy_score\n",
    "accuracy = accuracy_score(y_test, y_pred)\n",
    "\n",
    "print(f'Accuracy: {accuracy * 100:.2f}%')\n",
    "Accuracy= (TP+TN)/(TP+FP+FN+TN) \n",
    "print(f'Accuracy: {accuracy * 100:.2f}%')"
   ]
  },
  {
   "cell_type": "code",
   "execution_count": null,
   "metadata": {},
   "outputs": [],
   "source": []
  }
 ],
 "metadata": {
  "kernelspec": {
   "display_name": "Python 3",
   "language": "python",
   "name": "python3"
  },
  "language_info": {
   "codemirror_mode": {
    "name": "ipython",
    "version": 3
   },
   "file_extension": ".py",
   "mimetype": "text/x-python",
   "name": "python",
   "nbconvert_exporter": "python",
   "pygments_lexer": "ipython3",
   "version": "3.8.5"
  }
 },
 "nbformat": 4,
 "nbformat_minor": 4
}
